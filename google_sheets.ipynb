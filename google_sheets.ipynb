{
  "nbformat": 4,
  "nbformat_minor": 0,
  "metadata": {
    "colab": {
      "provenance": [],
      "authorship_tag": "ABX9TyOFt4VjcYH/AAsVPCSkY07s",
      "include_colab_link": true
    },
    "kernelspec": {
      "name": "python3",
      "display_name": "Python 3"
    },
    "language_info": {
      "name": "python"
    }
  },
  "cells": [
    {
      "cell_type": "markdown",
      "metadata": {
        "id": "view-in-github",
        "colab_type": "text"
      },
      "source": [
        "<a href=\"https://colab.research.google.com/github/JoaoLesko/colab_planilhas/blob/main/google_sheets.ipynb\" target=\"_parent\"><img src=\"https://colab.research.google.com/assets/colab-badge.svg\" alt=\"Open In Colab\"/></a>"
      ]
    },
    {
      "cell_type": "code",
      "execution_count": null,
      "metadata": {
        "colab": {
          "base_uri": "https://localhost:8080/"
        },
        "id": "M1RG3tpOeHyz",
        "outputId": "843a2329-b643-4775-f7f1-ff6062dceae1"
      },
      "outputs": [
        {
          "output_type": "stream",
          "name": "stdout",
          "text": [
            "Looking in indexes: https://pypi.org/simple, https://us-python.pkg.dev/colab-wheels/public/simple/\n",
            "Requirement already satisfied: gspread in /usr/local/lib/python3.8/dist-packages (3.4.2)\n",
            "Collecting gspread\n",
            "  Downloading gspread-5.7.2-py3-none-any.whl (40 kB)\n",
            "\u001b[K     |████████████████████████████████| 40 kB 4.0 MB/s \n",
            "\u001b[?25hRequirement already satisfied: google-auth-oauthlib>=0.4.1 in /usr/local/lib/python3.8/dist-packages (from gspread) (0.4.6)\n",
            "Requirement already satisfied: google-auth>=1.12.0 in /usr/local/lib/python3.8/dist-packages (from gspread) (2.15.0)\n",
            "Requirement already satisfied: six>=1.9.0 in /usr/local/lib/python3.8/dist-packages (from google-auth>=1.12.0->gspread) (1.15.0)\n",
            "Requirement already satisfied: cachetools<6.0,>=2.0.0 in /usr/local/lib/python3.8/dist-packages (from google-auth>=1.12.0->gspread) (5.2.0)\n",
            "Requirement already satisfied: pyasn1-modules>=0.2.1 in /usr/local/lib/python3.8/dist-packages (from google-auth>=1.12.0->gspread) (0.2.8)\n",
            "Requirement already satisfied: rsa<5,>=3.1.4 in /usr/local/lib/python3.8/dist-packages (from google-auth>=1.12.0->gspread) (4.9)\n",
            "Requirement already satisfied: requests-oauthlib>=0.7.0 in /usr/local/lib/python3.8/dist-packages (from google-auth-oauthlib>=0.4.1->gspread) (1.3.1)\n",
            "Requirement already satisfied: pyasn1<0.5.0,>=0.4.6 in /usr/local/lib/python3.8/dist-packages (from pyasn1-modules>=0.2.1->google-auth>=1.12.0->gspread) (0.4.8)\n",
            "Requirement already satisfied: oauthlib>=3.0.0 in /usr/local/lib/python3.8/dist-packages (from requests-oauthlib>=0.7.0->google-auth-oauthlib>=0.4.1->gspread) (3.2.2)\n",
            "Requirement already satisfied: requests>=2.0.0 in /usr/local/lib/python3.8/dist-packages (from requests-oauthlib>=0.7.0->google-auth-oauthlib>=0.4.1->gspread) (2.23.0)\n",
            "Requirement already satisfied: urllib3!=1.25.0,!=1.25.1,<1.26,>=1.21.1 in /usr/local/lib/python3.8/dist-packages (from requests>=2.0.0->requests-oauthlib>=0.7.0->google-auth-oauthlib>=0.4.1->gspread) (1.24.3)\n",
            "Requirement already satisfied: chardet<4,>=3.0.2 in /usr/local/lib/python3.8/dist-packages (from requests>=2.0.0->requests-oauthlib>=0.7.0->google-auth-oauthlib>=0.4.1->gspread) (3.0.4)\n",
            "Requirement already satisfied: certifi>=2017.4.17 in /usr/local/lib/python3.8/dist-packages (from requests>=2.0.0->requests-oauthlib>=0.7.0->google-auth-oauthlib>=0.4.1->gspread) (2022.12.7)\n",
            "Requirement already satisfied: idna<3,>=2.5 in /usr/local/lib/python3.8/dist-packages (from requests>=2.0.0->requests-oauthlib>=0.7.0->google-auth-oauthlib>=0.4.1->gspread) (2.10)\n",
            "Installing collected packages: gspread\n",
            "  Attempting uninstall: gspread\n",
            "    Found existing installation: gspread 3.4.2\n",
            "    Uninstalling gspread-3.4.2:\n",
            "      Successfully uninstalled gspread-3.4.2\n",
            "Successfully installed gspread-5.7.2\n"
          ]
        }
      ],
      "source": [
        "!pip install --upgrade gspread"
      ]
    },
    {
      "cell_type": "code",
      "source": [
        "from google.colab import auth\n",
        "auth.authenticate_user()\n",
        "\n",
        "import gspread\n",
        "from google.auth import default\n",
        "creds, _ = default()\n",
        "\n",
        "gc = gspread.authorize(creds)"
      ],
      "metadata": {
        "id": "b5j5DuPpgHFH"
      },
      "execution_count": null,
      "outputs": []
    },
    {
      "cell_type": "code",
      "source": [
        "spreasheet = gc.open ('atendimentos_interior')\n",
        "page = spreasheet.sheet1"
      ],
      "metadata": {
        "id": "4yQq9rW3gbn3"
      },
      "execution_count": null,
      "outputs": []
    },
    {
      "cell_type": "code",
      "source": [
        "page.row_values(2)"
      ],
      "metadata": {
        "colab": {
          "base_uri": "https://localhost:8080/"
        },
        "id": "e319RHhRh_D9",
        "outputId": "663f82a8-a76e-4870-803d-ca9925dc3fcf"
      },
      "execution_count": null,
      "outputs": [
        {
          "output_type": "execute_result",
          "data": {
            "text/plain": [
              "['30/11/2022 17:51',\n",
              " 'Cianorte',\n",
              " 'SUBSEÇÃO DE CIANORTE',\n",
              " 'Fórum de Cianorte',\n",
              " 'JEAN CARLOS PIZZINI',\n",
              " 'Dativos',\n",
              " 'Presencial',\n",
              " 'Advogado(a)',\n",
              " '',\n",
              " 'NÃO IDENTIFICADO',\n",
              " 'Sim',\n",
              " '00:30',\n",
              " '25 min']"
            ]
          },
          "metadata": {},
          "execution_count": 5
        }
      ]
    },
    {
      "cell_type": "code",
      "source": [
        "import pandas as pd"
      ],
      "metadata": {
        "id": "pN4duf0aoJhP"
      },
      "execution_count": null,
      "outputs": []
    },
    {
      "cell_type": "code",
      "source": [
        "cidades = pd.DataFrame(page.get_all_records())"
      ],
      "metadata": {
        "id": "8cCt0TftpIdN"
      },
      "execution_count": null,
      "outputs": []
    },
    {
      "cell_type": "code",
      "source": [
        "cidades.head()"
      ],
      "metadata": {
        "colab": {
          "base_uri": "https://localhost:8080/",
          "height": 206
        },
        "id": "F3fbP1aYvTYM",
        "outputId": "1fc5a375-4322-4609-9c64-67c537cec5f8"
      },
      "execution_count": null,
      "outputs": [
        {
          "output_type": "execute_result",
          "data": {
            "text/plain": [
              "          Data/Hora          Cidade              Subsecao               Sala  \\\n",
              "0  30/11/2022 17:51        Cianorte  SUBSEÇÃO DE CIANORTE  Fórum de Cianorte   \n",
              "1  30/11/2022 17:51        Cianorte  SUBSEÇÃO DE CIANORTE  Fórum de Cianorte   \n",
              "2  30/11/2022 17:50        Cianorte  SUBSEÇÃO DE CIANORTE  Fórum de Cianorte   \n",
              "3  30/11/2022 17:48        Cianorte  SUBSEÇÃO DE CIANORTE  Fórum de Cianorte   \n",
              "4  30/11/2022 17:46  Wenceslau Braz   SUBSEÇÃO DE GOIOERÊ   Fórum de Ubiratã   \n",
              "\n",
              "             Atendente             Assunto       Forma      Cliente  Nº OAB  \\\n",
              "0  JEAN CARLOS PIZZINI             Dativos  Presencial  Advogado(a)           \n",
              "1  JEAN CARLOS PIZZINI             Dativos  Presencial       Outros           \n",
              "2  JEAN CARLOS PIZZINI             Projudi  Presencial  Advogado(a)   65221   \n",
              "3  JEAN CARLOS PIZZINI             Projudi  Presencial  Advogado(a)   78495   \n",
              "4   Rosemary M Stéfano  Informações Gerais  Presencial  Advogado(a)  114673   \n",
              "\n",
              "                 Advogado(a) Atendimento Permanencia   Tempo  \n",
              "0           NÃO IDENTIFICADO         Sim       00:30  25 min  \n",
              "1           NÃO IDENTIFICADO         Sim       00:45  30 min  \n",
              "2          RENATO JOSÉ CAUMO         Sim       01:32  30 min  \n",
              "3  JULIANO RODRIGUES MIRANDA         Sim       01:25  30 min  \n",
              "4              Cintia C Paim         Sim       00:45  45 min  "
            ],
            "text/html": [
              "\n",
              "  <div id=\"df-523f66fa-1912-4f2b-9474-4efa97a2fd92\">\n",
              "    <div class=\"colab-df-container\">\n",
              "      <div>\n",
              "<style scoped>\n",
              "    .dataframe tbody tr th:only-of-type {\n",
              "        vertical-align: middle;\n",
              "    }\n",
              "\n",
              "    .dataframe tbody tr th {\n",
              "        vertical-align: top;\n",
              "    }\n",
              "\n",
              "    .dataframe thead th {\n",
              "        text-align: right;\n",
              "    }\n",
              "</style>\n",
              "<table border=\"1\" class=\"dataframe\">\n",
              "  <thead>\n",
              "    <tr style=\"text-align: right;\">\n",
              "      <th></th>\n",
              "      <th>Data/Hora</th>\n",
              "      <th>Cidade</th>\n",
              "      <th>Subsecao</th>\n",
              "      <th>Sala</th>\n",
              "      <th>Atendente</th>\n",
              "      <th>Assunto</th>\n",
              "      <th>Forma</th>\n",
              "      <th>Cliente</th>\n",
              "      <th>Nº OAB</th>\n",
              "      <th>Advogado(a)</th>\n",
              "      <th>Atendimento</th>\n",
              "      <th>Permanencia</th>\n",
              "      <th>Tempo</th>\n",
              "    </tr>\n",
              "  </thead>\n",
              "  <tbody>\n",
              "    <tr>\n",
              "      <th>0</th>\n",
              "      <td>30/11/2022 17:51</td>\n",
              "      <td>Cianorte</td>\n",
              "      <td>SUBSEÇÃO DE CIANORTE</td>\n",
              "      <td>Fórum de Cianorte</td>\n",
              "      <td>JEAN CARLOS PIZZINI</td>\n",
              "      <td>Dativos</td>\n",
              "      <td>Presencial</td>\n",
              "      <td>Advogado(a)</td>\n",
              "      <td></td>\n",
              "      <td>NÃO IDENTIFICADO</td>\n",
              "      <td>Sim</td>\n",
              "      <td>00:30</td>\n",
              "      <td>25 min</td>\n",
              "    </tr>\n",
              "    <tr>\n",
              "      <th>1</th>\n",
              "      <td>30/11/2022 17:51</td>\n",
              "      <td>Cianorte</td>\n",
              "      <td>SUBSEÇÃO DE CIANORTE</td>\n",
              "      <td>Fórum de Cianorte</td>\n",
              "      <td>JEAN CARLOS PIZZINI</td>\n",
              "      <td>Dativos</td>\n",
              "      <td>Presencial</td>\n",
              "      <td>Outros</td>\n",
              "      <td></td>\n",
              "      <td>NÃO IDENTIFICADO</td>\n",
              "      <td>Sim</td>\n",
              "      <td>00:45</td>\n",
              "      <td>30 min</td>\n",
              "    </tr>\n",
              "    <tr>\n",
              "      <th>2</th>\n",
              "      <td>30/11/2022 17:50</td>\n",
              "      <td>Cianorte</td>\n",
              "      <td>SUBSEÇÃO DE CIANORTE</td>\n",
              "      <td>Fórum de Cianorte</td>\n",
              "      <td>JEAN CARLOS PIZZINI</td>\n",
              "      <td>Projudi</td>\n",
              "      <td>Presencial</td>\n",
              "      <td>Advogado(a)</td>\n",
              "      <td>65221</td>\n",
              "      <td>RENATO JOSÉ CAUMO</td>\n",
              "      <td>Sim</td>\n",
              "      <td>01:32</td>\n",
              "      <td>30 min</td>\n",
              "    </tr>\n",
              "    <tr>\n",
              "      <th>3</th>\n",
              "      <td>30/11/2022 17:48</td>\n",
              "      <td>Cianorte</td>\n",
              "      <td>SUBSEÇÃO DE CIANORTE</td>\n",
              "      <td>Fórum de Cianorte</td>\n",
              "      <td>JEAN CARLOS PIZZINI</td>\n",
              "      <td>Projudi</td>\n",
              "      <td>Presencial</td>\n",
              "      <td>Advogado(a)</td>\n",
              "      <td>78495</td>\n",
              "      <td>JULIANO RODRIGUES MIRANDA</td>\n",
              "      <td>Sim</td>\n",
              "      <td>01:25</td>\n",
              "      <td>30 min</td>\n",
              "    </tr>\n",
              "    <tr>\n",
              "      <th>4</th>\n",
              "      <td>30/11/2022 17:46</td>\n",
              "      <td>Wenceslau Braz</td>\n",
              "      <td>SUBSEÇÃO DE GOIOERÊ</td>\n",
              "      <td>Fórum de Ubiratã</td>\n",
              "      <td>Rosemary M Stéfano</td>\n",
              "      <td>Informações Gerais</td>\n",
              "      <td>Presencial</td>\n",
              "      <td>Advogado(a)</td>\n",
              "      <td>114673</td>\n",
              "      <td>Cintia C Paim</td>\n",
              "      <td>Sim</td>\n",
              "      <td>00:45</td>\n",
              "      <td>45 min</td>\n",
              "    </tr>\n",
              "  </tbody>\n",
              "</table>\n",
              "</div>\n",
              "      <button class=\"colab-df-convert\" onclick=\"convertToInteractive('df-523f66fa-1912-4f2b-9474-4efa97a2fd92')\"\n",
              "              title=\"Convert this dataframe to an interactive table.\"\n",
              "              style=\"display:none;\">\n",
              "        \n",
              "  <svg xmlns=\"http://www.w3.org/2000/svg\" height=\"24px\"viewBox=\"0 0 24 24\"\n",
              "       width=\"24px\">\n",
              "    <path d=\"M0 0h24v24H0V0z\" fill=\"none\"/>\n",
              "    <path d=\"M18.56 5.44l.94 2.06.94-2.06 2.06-.94-2.06-.94-.94-2.06-.94 2.06-2.06.94zm-11 1L8.5 8.5l.94-2.06 2.06-.94-2.06-.94L8.5 2.5l-.94 2.06-2.06.94zm10 10l.94 2.06.94-2.06 2.06-.94-2.06-.94-.94-2.06-.94 2.06-2.06.94z\"/><path d=\"M17.41 7.96l-1.37-1.37c-.4-.4-.92-.59-1.43-.59-.52 0-1.04.2-1.43.59L10.3 9.45l-7.72 7.72c-.78.78-.78 2.05 0 2.83L4 21.41c.39.39.9.59 1.41.59.51 0 1.02-.2 1.41-.59l7.78-7.78 2.81-2.81c.8-.78.8-2.07 0-2.86zM5.41 20L4 18.59l7.72-7.72 1.47 1.35L5.41 20z\"/>\n",
              "  </svg>\n",
              "      </button>\n",
              "      \n",
              "  <style>\n",
              "    .colab-df-container {\n",
              "      display:flex;\n",
              "      flex-wrap:wrap;\n",
              "      gap: 12px;\n",
              "    }\n",
              "\n",
              "    .colab-df-convert {\n",
              "      background-color: #E8F0FE;\n",
              "      border: none;\n",
              "      border-radius: 50%;\n",
              "      cursor: pointer;\n",
              "      display: none;\n",
              "      fill: #1967D2;\n",
              "      height: 32px;\n",
              "      padding: 0 0 0 0;\n",
              "      width: 32px;\n",
              "    }\n",
              "\n",
              "    .colab-df-convert:hover {\n",
              "      background-color: #E2EBFA;\n",
              "      box-shadow: 0px 1px 2px rgba(60, 64, 67, 0.3), 0px 1px 3px 1px rgba(60, 64, 67, 0.15);\n",
              "      fill: #174EA6;\n",
              "    }\n",
              "\n",
              "    [theme=dark] .colab-df-convert {\n",
              "      background-color: #3B4455;\n",
              "      fill: #D2E3FC;\n",
              "    }\n",
              "\n",
              "    [theme=dark] .colab-df-convert:hover {\n",
              "      background-color: #434B5C;\n",
              "      box-shadow: 0px 1px 3px 1px rgba(0, 0, 0, 0.15);\n",
              "      filter: drop-shadow(0px 1px 2px rgba(0, 0, 0, 0.3));\n",
              "      fill: #FFFFFF;\n",
              "    }\n",
              "  </style>\n",
              "\n",
              "      <script>\n",
              "        const buttonEl =\n",
              "          document.querySelector('#df-523f66fa-1912-4f2b-9474-4efa97a2fd92 button.colab-df-convert');\n",
              "        buttonEl.style.display =\n",
              "          google.colab.kernel.accessAllowed ? 'block' : 'none';\n",
              "\n",
              "        async function convertToInteractive(key) {\n",
              "          const element = document.querySelector('#df-523f66fa-1912-4f2b-9474-4efa97a2fd92');\n",
              "          const dataTable =\n",
              "            await google.colab.kernel.invokeFunction('convertToInteractive',\n",
              "                                                     [key], {});\n",
              "          if (!dataTable) return;\n",
              "\n",
              "          const docLinkHtml = 'Like what you see? Visit the ' +\n",
              "            '<a target=\"_blank\" href=https://colab.research.google.com/notebooks/data_table.ipynb>data table notebook</a>'\n",
              "            + ' to learn more about interactive tables.';\n",
              "          element.innerHTML = '';\n",
              "          dataTable['output_type'] = 'display_data';\n",
              "          await google.colab.output.renderOutput(dataTable, element);\n",
              "          const docLink = document.createElement('div');\n",
              "          docLink.innerHTML = docLinkHtml;\n",
              "          element.appendChild(docLink);\n",
              "        }\n",
              "      </script>\n",
              "    </div>\n",
              "  </div>\n",
              "  "
            ]
          },
          "metadata": {},
          "execution_count": 8
        }
      ]
    },
    {
      "cell_type": "code",
      "source": [
        "cidades.sum('Cidade == \"Cianorte\"')"
      ],
      "metadata": {
        "id": "cqdF-OVOvaRE"
      },
      "execution_count": null,
      "outputs": []
    },
    {
      "cell_type": "code",
      "source": [
        "duplicados = cidades.duplicated('Advogado(a)')\n",
        "duplicados.sum()"
      ],
      "metadata": {
        "colab": {
          "base_uri": "https://localhost:8080/"
        },
        "id": "hJ1NzZxGxktA",
        "outputId": "2213837b-aed0-4a54-aee2-aa121b418186"
      },
      "execution_count": null,
      "outputs": [
        {
          "output_type": "execute_result",
          "data": {
            "text/plain": [
              "1099"
            ]
          },
          "metadata": {},
          "execution_count": 18
        }
      ]
    },
    {
      "cell_type": "code",
      "source": [
        "\n",
        "frequencia = cidades.groupby(['Sala']).count()\n",
        "frequencia = frequencia.sort_values(by='Cidade', ascending=False)\n",
        "print(frequencia[['Cidade']])"
      ],
      "metadata": {
        "colab": {
          "base_uri": "https://localhost:8080/"
        },
        "id": "2n-38FL9zHCl",
        "outputId": "009746d7-4553-4c17-f13b-782801ffc5f2"
      },
      "execution_count": null,
      "outputs": [
        {
          "output_type": "stream",
          "name": "stdout",
          "text": [
            "                                          Cidade\n",
            "Sala                                            \n",
            "Fórum de Fazenda Rio Grande                  304\n",
            "Fórum de Umuarama                            242\n",
            "Fórum de Cambará                             225\n",
            "Fórum de Foz do Iguaçu                       205\n",
            "Fórum de Andirá                              191\n",
            "Fórum de Piraquara                           171\n",
            "Fórum de Quedas do Iguaçu                    170\n",
            "Fórum de Arapongas                           166\n",
            "Justiça do Trabalho de Londrina              145\n",
            "Justiça do Trabalho de Maringá               131\n",
            "Fórum de Santa Mariana                        85\n",
            "Fórum de Cianorte                             84\n",
            "Fórum de Assaí                                63\n",
            "Fórum de Palmas                               63\n",
            "Justiça do Trabalho de Cascavel               51\n",
            "Fórum de Jacarezinho                          48\n",
            "Fórum Cível de Araucária                      42\n",
            "Fórum de Guaraniaçu                           41\n",
            "Fórum de Laranjeiras do Sul                   41\n",
            "Fórum de Wenceslau Braz                       41\n",
            "Fórum de Carlópolis                           41\n",
            "Fórum de Ubiratã                              39\n",
            "Justiça do Trabalho de Cambé                  32\n",
            "Fórum de Imbituva                             28\n",
            "Fórum de Rio Negro                            24\n",
            "Juizado Especial de Maringá                   21\n",
            "Justiça do Trabalho de Araucária              18\n",
            "Justiça do Trabalho de Paranaguá              18\n",
            "Fórum de Uraí                                 14\n",
            "Fórum de Cornélio Procópio                    12\n",
            "Fórum de Maringá                              10\n",
            "Justiça do Trabalho de Cornélio Procópio       4\n",
            "Fórum de Mandaguari                            3\n",
            "Fórum de Ponta Grossa                          2\n",
            "Fórum de São Jerônimo da Serra                 1\n",
            "Fórum de Marmeleiro                            1\n",
            "Fórum de Ampére                                1\n",
            "Fórum de Francisco Beltrão                     1\n",
            "Justiça Federal de Maringá                     1\n",
            "Fórum de Cascavel                              1\n",
            "Fórum de Campina Grande do Sul                 1\n",
            "Fórum de Arapoti                               1\n",
            "Fórum de Apucarana                             1\n"
          ]
        }
      ]
    },
    {
      "cell_type": "code",
      "source": [],
      "metadata": {
        "id": "gzFLUQwtzFSI"
      },
      "execution_count": null,
      "outputs": []
    }
  ]
}