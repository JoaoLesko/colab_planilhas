{
  "nbformat": 4,
  "nbformat_minor": 0,
  "metadata": {
    "colab": {
      "provenance": [],
      "authorship_tag": "ABX9TyOo2C9tWhMYt+w6K98sCEgU",
      "include_colab_link": true
    },
    "kernelspec": {
      "name": "python3",
      "display_name": "Python 3"
    },
    "language_info": {
      "name": "python"
    }
  },
  "cells": [
    {
      "cell_type": "markdown",
      "metadata": {
        "id": "view-in-github",
        "colab_type": "text"
      },
      "source": [
        "<a href=\"https://colab.research.google.com/github/JoaoLesko/colab_planilhas/blob/main/google_sheets.ipynb\" target=\"_parent\"><img src=\"https://colab.research.google.com/assets/colab-badge.svg\" alt=\"Open In Colab\"/></a>"
      ]
    },
    {
      "cell_type": "code",
      "execution_count": 2,
      "metadata": {
        "colab": {
          "base_uri": "https://localhost:8080/"
        },
        "id": "M1RG3tpOeHyz",
        "outputId": "a7b0bcc5-4f2b-48e3-9eda-4a0b85005fca"
      },
      "outputs": [
        {
          "output_type": "stream",
          "name": "stdout",
          "text": [
            "Looking in indexes: https://pypi.org/simple, https://us-python.pkg.dev/colab-wheels/public/simple/\n",
            "Requirement already satisfied: gspread in /usr/local/lib/python3.8/dist-packages (3.4.2)\n",
            "Collecting gspread\n",
            "  Downloading gspread-5.7.2-py3-none-any.whl (40 kB)\n",
            "\u001b[?25l\r\u001b[K     |████████                        | 10 kB 31.8 MB/s eta 0:00:01\r\u001b[K     |████████████████▏               | 20 kB 41.2 MB/s eta 0:00:01\r\u001b[K     |████████████████████████▎       | 30 kB 39.1 MB/s eta 0:00:01\r\u001b[K     |████████████████████████████████| 40 kB 7.1 MB/s \n",
            "\u001b[?25hRequirement already satisfied: google-auth>=1.12.0 in /usr/local/lib/python3.8/dist-packages (from gspread) (2.15.0)\n",
            "Requirement already satisfied: google-auth-oauthlib>=0.4.1 in /usr/local/lib/python3.8/dist-packages (from gspread) (0.4.6)\n",
            "Requirement already satisfied: cachetools<6.0,>=2.0.0 in /usr/local/lib/python3.8/dist-packages (from google-auth>=1.12.0->gspread) (5.2.0)\n",
            "Requirement already satisfied: pyasn1-modules>=0.2.1 in /usr/local/lib/python3.8/dist-packages (from google-auth>=1.12.0->gspread) (0.2.8)\n",
            "Requirement already satisfied: six>=1.9.0 in /usr/local/lib/python3.8/dist-packages (from google-auth>=1.12.0->gspread) (1.15.0)\n",
            "Requirement already satisfied: rsa<5,>=3.1.4 in /usr/local/lib/python3.8/dist-packages (from google-auth>=1.12.0->gspread) (4.9)\n",
            "Requirement already satisfied: requests-oauthlib>=0.7.0 in /usr/local/lib/python3.8/dist-packages (from google-auth-oauthlib>=0.4.1->gspread) (1.3.1)\n",
            "Requirement already satisfied: pyasn1<0.5.0,>=0.4.6 in /usr/local/lib/python3.8/dist-packages (from pyasn1-modules>=0.2.1->google-auth>=1.12.0->gspread) (0.4.8)\n",
            "Requirement already satisfied: requests>=2.0.0 in /usr/local/lib/python3.8/dist-packages (from requests-oauthlib>=0.7.0->google-auth-oauthlib>=0.4.1->gspread) (2.23.0)\n",
            "Requirement already satisfied: oauthlib>=3.0.0 in /usr/local/lib/python3.8/dist-packages (from requests-oauthlib>=0.7.0->google-auth-oauthlib>=0.4.1->gspread) (3.2.2)\n",
            "Requirement already satisfied: chardet<4,>=3.0.2 in /usr/local/lib/python3.8/dist-packages (from requests>=2.0.0->requests-oauthlib>=0.7.0->google-auth-oauthlib>=0.4.1->gspread) (3.0.4)\n",
            "Requirement already satisfied: urllib3!=1.25.0,!=1.25.1,<1.26,>=1.21.1 in /usr/local/lib/python3.8/dist-packages (from requests>=2.0.0->requests-oauthlib>=0.7.0->google-auth-oauthlib>=0.4.1->gspread) (1.24.3)\n",
            "Requirement already satisfied: certifi>=2017.4.17 in /usr/local/lib/python3.8/dist-packages (from requests>=2.0.0->requests-oauthlib>=0.7.0->google-auth-oauthlib>=0.4.1->gspread) (2022.12.7)\n",
            "Requirement already satisfied: idna<3,>=2.5 in /usr/local/lib/python3.8/dist-packages (from requests>=2.0.0->requests-oauthlib>=0.7.0->google-auth-oauthlib>=0.4.1->gspread) (2.10)\n",
            "Installing collected packages: gspread\n",
            "  Attempting uninstall: gspread\n",
            "    Found existing installation: gspread 3.4.2\n",
            "    Uninstalling gspread-3.4.2:\n",
            "      Successfully uninstalled gspread-3.4.2\n",
            "Successfully installed gspread-5.7.2\n"
          ]
        }
      ],
      "source": [
        "!pip install --upgrade gspread"
      ]
    },
    {
      "cell_type": "code",
      "source": [
        "from google.colab import auth\n",
        "auth.authenticate_user()\n",
        "\n",
        "import gspread\n",
        "from google.auth import default\n",
        "creds, _ = default()\n",
        "\n",
        "gc = gspread.authorize(creds)"
      ],
      "metadata": {
        "id": "b5j5DuPpgHFH"
      },
      "execution_count": 3,
      "outputs": []
    },
    {
      "cell_type": "code",
      "source": [
        "spreasheet = gc.open ('atendimentos_interior')\n",
        "page = spreasheet.sheet1"
      ],
      "metadata": {
        "id": "4yQq9rW3gbn3"
      },
      "execution_count": 4,
      "outputs": []
    },
    {
      "cell_type": "code",
      "source": [
        "import pandas as pd"
      ],
      "metadata": {
        "id": "pN4duf0aoJhP"
      },
      "execution_count": 5,
      "outputs": []
    },
    {
      "cell_type": "code",
      "source": [
        "df = pd.DataFrame(page.get_all_records())"
      ],
      "metadata": {
        "id": "8cCt0TftpIdN"
      },
      "execution_count": 8,
      "outputs": []
    },
    {
      "cell_type": "code",
      "source": [
        "df.head()"
      ],
      "metadata": {
        "id": "F3fbP1aYvTYM"
      },
      "execution_count": null,
      "outputs": []
    },
    {
      "cell_type": "code",
      "source": [
        "df.sum('Cidade == \"Cianorte\"')"
      ],
      "metadata": {
        "id": "cqdF-OVOvaRE"
      },
      "execution_count": null,
      "outputs": []
    },
    {
      "cell_type": "code",
      "source": [
        "duplicados = df.duplicated('Advogado(a)')\n",
        "duplicados.sum()"
      ],
      "metadata": {
        "id": "hJ1NzZxGxktA"
      },
      "execution_count": null,
      "outputs": []
    },
    {
      "cell_type": "code",
      "source": [
        "\n",
        "frequencia = df.groupby(['Sala']).count()\n",
        "frequencia = frequencia.sort_values(by='Cidade', ascending=False)\n",
        "print(frequencia[['Cidade']])"
      ],
      "metadata": {
        "id": "2n-38FL9zHCl",
        "colab": {
          "base_uri": "https://localhost:8080/"
        },
        "outputId": "1f7af113-1e87-4537-b878-aca94f8e0571"
      },
      "execution_count": 26,
      "outputs": [
        {
          "output_type": "stream",
          "name": "stdout",
          "text": [
            "                                          Cidade\n",
            "Sala                                            \n",
            "Fórum de Fazenda Rio Grande                  304\n",
            "Fórum de Umuarama                            242\n",
            "Fórum de Cambará                             225\n",
            "Fórum de Foz do Iguaçu                       205\n",
            "Fórum de Andirá                              191\n",
            "Fórum de Piraquara                           171\n",
            "Fórum de Quedas do Iguaçu                    170\n",
            "Fórum de Arapongas                           166\n",
            "Justiça do Trabalho de Londrina              145\n",
            "Justiça do Trabalho de Maringá               131\n",
            "Fórum de Santa Mariana                        85\n",
            "Fórum de Cianorte                             84\n",
            "Fórum de Assaí                                63\n",
            "Fórum de Palmas                               63\n",
            "Justiça do Trabalho de Cascavel               51\n",
            "Fórum de Jacarezinho                          48\n",
            "Fórum Cível de Araucária                      42\n",
            "Fórum de Guaraniaçu                           41\n",
            "Fórum de Laranjeiras do Sul                   41\n",
            "Fórum de Wenceslau Braz                       41\n",
            "Fórum de Carlópolis                           41\n",
            "Fórum de Ubiratã                              39\n",
            "Justiça do Trabalho de Cambé                  32\n",
            "Fórum de Imbituva                             28\n",
            "Fórum de Rio Negro                            24\n",
            "Juizado Especial de Maringá                   21\n",
            "Justiça do Trabalho de Araucária              18\n",
            "Justiça do Trabalho de Paranaguá              18\n",
            "Fórum de Uraí                                 14\n",
            "Fórum de Cornélio Procópio                    12\n",
            "Fórum de Maringá                              10\n",
            "Justiça do Trabalho de Cornélio Procópio       4\n",
            "Fórum de Mandaguari                            3\n",
            "Fórum de Ponta Grossa                          2\n",
            "Fórum de São Jerônimo da Serra                 1\n",
            "Fórum de Marmeleiro                            1\n",
            "Fórum de Ampére                                1\n",
            "Fórum de Francisco Beltrão                     1\n",
            "Justiça Federal de Maringá                     1\n",
            "Fórum de Cascavel                              1\n",
            "Fórum de Campina Grande do Sul                 1\n",
            "Fórum de Arapoti                               1\n",
            "Fórum de Apucarana                             1\n"
          ]
        }
      ]
    },
    {
      "cell_type": "code",
      "source": [
        "counts = df['Nº OAB'].value_counts()\n",
        "print(counts)"
      ],
      "metadata": {
        "id": "gzFLUQwtzFSI",
        "colab": {
          "base_uri": "https://localhost:8080/"
        },
        "outputId": "77fef362-1ede-4baa-8826-5a60a7274bbe"
      },
      "execution_count": 19,
      "outputs": [
        {
          "output_type": "stream",
          "name": "stdout",
          "text": [
            "          1185\n",
            "47777       15\n",
            "62591       12\n",
            "16968       11\n",
            "18145       11\n",
            "          ... \n",
            "56359        1\n",
            "43443        1\n",
            "77662        1\n",
            "107564       1\n",
            "87608        1\n",
            "Name: Nº OAB, Length: 1038, dtype: int64\n"
          ]
        }
      ]
    },
    {
      "cell_type": "code",
      "source": [
        "counts = pd.crosstab(df['Cidade'], df['Sala'])\n",
        "print(counts)"
      ],
      "metadata": {
        "id": "2Z1RXs-mt2ft"
      },
      "execution_count": null,
      "outputs": []
    },
    {
      "cell_type": "code",
      "source": [
        "df_filtro = df.loc[:,['Subsecao', 'Sala']]\n",
        "query = df_filtro.query('Subsecao == \"SUBSEÇÃO DE CIANORTE\"').value_counts()\n",
        "print(query)"
      ],
      "metadata": {
        "colab": {
          "base_uri": "https://localhost:8080/"
        },
        "id": "znULIp_y6pX8",
        "outputId": "8dbe01e4-f4b2-4b80-cbb6-5826bdc2ecd8"
      },
      "execution_count": 28,
      "outputs": [
        {
          "output_type": "stream",
          "name": "stdout",
          "text": [
            "Subsecao              Sala                      \n",
            "SUBSEÇÃO DE CIANORTE  Fórum de Cianorte             84\n",
            "                      Fórum de Cornélio Procópio     1\n",
            "dtype: int64\n"
          ]
        }
      ]
    }
  ]
}