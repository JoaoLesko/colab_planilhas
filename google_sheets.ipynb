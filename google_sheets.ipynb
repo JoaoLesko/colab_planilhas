{
  "nbformat": 4,
  "nbformat_minor": 0,
  "metadata": {
    "colab": {
      "provenance": [],
      "authorship_tag": "ABX9TyOFt4VjcYH/AAsVPCSkY07s",
      "include_colab_link": true
    },
    "kernelspec": {
      "name": "python3",
      "display_name": "Python 3"
    },
    "language_info": {
      "name": "python"
    }
  },
  "cells": [
    {
      "cell_type": "markdown",
      "metadata": {
        "id": "view-in-github",
        "colab_type": "text"
      },
      "source": [
        "<a href=\"https://colab.research.google.com/github/JoaoLesko/colab_planilhas/blob/main/google_sheets.ipynb\" target=\"_parent\"><img src=\"https://colab.research.google.com/assets/colab-badge.svg\" alt=\"Open In Colab\"/></a>"
      ]
    },
    {
      "cell_type": "code",
      "execution_count": null,
      "metadata": {
        "id": "M1RG3tpOeHyz"
      },
      "outputs": [],
      "source": [
        "!pip install --upgrade gspread"
      ]
    },
    {
      "cell_type": "code",
      "source": [
        "from google.colab import auth\n",
        "auth.authenticate_user()\n",
        "\n",
        "import gspread\n",
        "from google.auth import default\n",
        "creds, _ = default()\n",
        "\n",
        "gc = gspread.authorize(creds)"
      ],
      "metadata": {
        "id": "b5j5DuPpgHFH"
      },
      "execution_count": null,
      "outputs": []
    },
    {
      "cell_type": "code",
      "source": [
        "spreasheet = gc.open ('atendimentos_interior')\n",
        "page = spreasheet.sheet1"
      ],
      "metadata": {
        "id": "4yQq9rW3gbn3"
      },
      "execution_count": null,
      "outputs": []
    },
    {
      "cell_type": "code",
      "source": [
        "page.row_values(2)"
      ],
      "metadata": {
        "id": "e319RHhRh_D9"
      },
      "execution_count": null,
      "outputs": []
    },
    {
      "cell_type": "code",
      "source": [
        "import pandas as pd"
      ],
      "metadata": {
        "id": "pN4duf0aoJhP"
      },
      "execution_count": null,
      "outputs": []
    },
    {
      "cell_type": "code",
      "source": [
        "cidades = pd.DataFrame(page.get_all_records())"
      ],
      "metadata": {
        "id": "8cCt0TftpIdN"
      },
      "execution_count": null,
      "outputs": []
    },
    {
      "cell_type": "code",
      "source": [
        "cidades.head()"
      ],
      "metadata": {
        "id": "F3fbP1aYvTYM"
      },
      "execution_count": null,
      "outputs": []
    },
    {
      "cell_type": "code",
      "source": [
        "cidades.sum('Cidade == \"Cianorte\"')"
      ],
      "metadata": {
        "id": "cqdF-OVOvaRE"
      },
      "execution_count": null,
      "outputs": []
    },
    {
      "cell_type": "code",
      "source": [
        "duplicados = cidades.duplicated('Advogado(a)')\n",
        "duplicados.sum()"
      ],
      "metadata": {
        "id": "hJ1NzZxGxktA"
      },
      "execution_count": null,
      "outputs": []
    },
    {
      "cell_type": "code",
      "source": [
        "\n",
        "frequencia = cidades.groupby(['Sala']).count()\n",
        "frequencia = frequencia.sort_values(by='Cidade', ascending=False)\n",
        "print(frequencia[['Cidade']])"
      ],
      "metadata": {
        "id": "2n-38FL9zHCl"
      },
      "execution_count": null,
      "outputs": []
    },
    {
      "cell_type": "code",
      "source": [],
      "metadata": {
        "id": "gzFLUQwtzFSI"
      },
      "execution_count": null,
      "outputs": []
    }
  ]
}